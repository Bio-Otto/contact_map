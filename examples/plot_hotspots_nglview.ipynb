{
 "cells": [
  {
   "cell_type": "markdown",
   "metadata": {},
   "source": [
    "# Advanced: Plotting drug binding hotspots on the protein\n",
    "\n",
    "This is an example of some of the more advanced things one can do with Contact Map Explorer. The system here is a drug molecule (a single residue) binding to a protein. So our query is the drug molecule residue, and the haystack is the protein (heavy atoms for both).\n",
    "\n",
    "Since there's only one residue in the query, that residue is extraneous information. When we remove that, we're left with the fraction of the trajectory that the drug spends in contact with each protein residue -- in other words, this will tell us where the hotspots in the binding event are. But the 3-dimensional nature of proteins means sequence alone doesn't show you the hotspots, you need a 3D representation of the structure.\n",
    "\n",
    "For that 3D representation, we'll go to [NGLView](https://github.com/arose/nglview), an excellent tool for visualizing 3D molecular structures in Jupyter notebooks. We'll use the values from our contact map to set the color of the residues in the NGLView visualization.\n",
    "\n",
    "Note that NGLView is not a requirement for Contact Map Explorer, so you may need to install it separately. It can be easily installed with conda; see [the NGLView GitHub page](https://github.com/arose/nglview) for details.\n",
    "\n",
    "The first part of this is exactly like the contact concurrences example:"
   ]
  },
  {
   "cell_type": "code",
   "execution_count": 1,
   "metadata": {},
   "outputs": [
    {
     "name": "stdout",
     "output_type": "stream",
     "text": [
      "<mdtraj.Trajectory with 100 frames, 5704 atoms, 360 residues, and unitcells>\n"
     ]
    }
   ],
   "source": [
    "from __future__ import print_function\n",
    "import numpy as np\n",
    "\n",
    "import matplotlib  # TODO: maybe can remove this later?\n",
    "\n",
    "from contact_map import ContactFrequency\n",
    "import mdtraj as md\n",
    "import nglview as nv\n",
    "\n",
    "traj = md.load(\"data/gsk3b_example.h5\")\n",
    "print(traj)  # to see number of frames; size of system"
   ]
  },
  {
   "cell_type": "code",
   "execution_count": 2,
   "metadata": {},
   "outputs": [],
   "source": [
    "topology = traj.topology\n",
    "yyg = topology.select('resname YYG and element != \"H\"')\n",
    "protein = topology.select('protein and element != \"H\"')"
   ]
  },
  {
   "cell_type": "code",
   "execution_count": 3,
   "metadata": {},
   "outputs": [
    {
     "name": "stdout",
     "output_type": "stream",
     "text": [
      "CPU times: user 1.82 s, sys: 31.2 ms, total: 1.85 s\n",
      "Wall time: 1.93 s\n"
     ]
    }
   ],
   "source": [
    "%%time\n",
    "contacts = ContactFrequency(traj, query=yyg, haystack=protein)"
   ]
  },
  {
   "cell_type": "markdown",
   "metadata": {},
   "source": [
    "Now we select the MDTraj residue for the drug. Since that is always the same, we'll use it to identify the relevant residue in each of the "
   ]
  },
  {
   "cell_type": "code",
   "execution_count": 4,
   "metadata": {},
   "outputs": [
    {
     "data": {
      "text/plain": [
       "YYG351"
      ]
     },
     "execution_count": 4,
     "metadata": {},
     "output_type": "execute_result"
    }
   ],
   "source": [
    "yyg_res = topology.atom(yyg[0]).residue\n",
    "yyg_res"
   ]
  },
  {
   "cell_type": "code",
   "execution_count": 5,
   "metadata": {},
   "outputs": [],
   "source": [
    "# this takes the residue pair, removes the YYG residue, takes the only thing left, and gets its residue index\n",
    "# * `set(res_pair) - set([yyg_res])` takes the pair (order unknown) and removes yyg_res, leaving the other residue\n",
    "# * `list(...)[0]` makes it into a list and takes the first (only) element\n",
    "# * `(...).index` takes the index of the MDTraj Residue object, which is its order in the file (count from 0)\n",
    "protein_res_contact = {\n",
    "    list(set(res_pair) - set([yyg_res]))[0].index: freq\n",
    "    for res_pair, freq in contacts.residue_contacts.most_common()\n",
    "}\n",
    "# now we have a mapping of residue index"
   ]
  },
  {
   "cell_type": "code",
   "execution_count": 6,
   "metadata": {},
   "outputs": [],
   "source": [
    "# if no contacts were made, the count is zero; start with an array of zeros (one for each residue)\n",
    "counts = np.zeros(351)\n",
    "# any residue whose index that is in the protein_res_contact dictionary should \n",
    "# replace the default 0 with the correct freq!\n",
    "for res, freq in protein_res_contact.items():\n",
    "    counts[res] = freq\n",
    "    \n",
    "# counts is now a list (actually, np.array) with one element for each residue.\n",
    "# For each residue in the protein, the value at that element is what we want to represent on the figure"
   ]
  },
  {
   "cell_type": "markdown",
   "metadata": {},
   "source": [
    "Finally, we get to make the picture! NGLView knows how to visualize MDTraj trajectories. We make it so that we're only showing the protein, and then set the colors to be based on the contact frequencies (using our color map of choice)."
   ]
  },
  {
   "cell_type": "code",
   "execution_count": 7,
   "metadata": {},
   "outputs": [],
   "source": [
    "def counts_to_colors(counts, scaled_to=None, cmap=\"viridis\"):\n",
    "    if scaled_to:\n",
    "        min_, max_ = scaled_to\n",
    "        min_c = counts.min()\n",
    "        max_c = counts.max()\n",
    "        standardized = (counts - min_c) / (max_c - min_c)\n",
    "        counts = standardized * (max_ - min_) + min_\n",
    "    cmap_obj = matplotlib.cm.get_cmap(cmap)\n",
    "    components = cmap_obj(counts, bytes=True)\n",
    "    colors = [256*256*c[0] + 256*c[1] + c[2] for c in components]\n",
    "    return colors"
   ]
  },
  {
   "cell_type": "code",
   "execution_count": 10,
   "metadata": {},
   "outputs": [
    {
     "data": {
      "application/vnd.jupyter.widget-view+json": {
       "model_id": "749d5725ab0944dc81d1a7e8fc138ed7",
       "version_major": 2,
       "version_minor": 0
      },
      "text/plain": [
       "NGLWidget(max_frame=99)"
      ]
     },
     "metadata": {},
     "output_type": "display_data"
    }
   ],
   "source": [
    "view = nv.show_mdtraj(traj)\n",
    "\n",
    "# temporary hackery stolen from @hainm\n",
    "# see https://github.com/arose/nglview/issues/491#issuecomment-516928477\n",
    "def _set_color_by_residue(self, colors, component_index=0, repr_index=0):\n",
    "    self._remote_call('setColorByResidue',\n",
    "                       target='Widget',\n",
    "                       args=[colors, component_index, repr_index])\n",
    "\n",
    "if not hasattr(view, '_set_color_by_residue'):\n",
    "    view._set_color_by_residue = _set_color_by_residue\n",
    "\n",
    "colors = counts_to_colors(counts, scaled_to=(0.0, 1.0))\n",
    "view.clear_representations()  # this hides the drug molecule\n",
    "view.add_representation('cartoon', 'protein')\n",
    "view._set_color_by_residue(view, colors)\n",
    "view"
   ]
  },
  {
   "cell_type": "markdown",
   "metadata": {},
   "source": [
    "Unfortunately, the NGLView widget (which allows you to rotate the molecule, run the trajectory, zoom in, etc.) can't be converted to HTML. So we recommend that you try out the actual example notebook!\n",
    "\n",
    "When you do, you'll be able to rotate the image around to show you something like this:\n",
    "\n",
    "<img src=\"GSK3B_contacts.png\" alt=\"GSK3B drawn with contact values\" width=500 />"
   ]
  },
  {
   "cell_type": "code",
   "execution_count": 11,
   "metadata": {},
   "outputs": [],
   "source": [
    "#.download_image(\"GSK3B_contacts.png\", trim=True)  # this is how to save that image"
   ]
  }
 ],
 "metadata": {
  "kernelspec": {
   "display_name": "Python 3",
   "language": "python",
   "name": "python3"
  },
  "language_info": {
   "codemirror_mode": {
    "name": "ipython",
    "version": 3
   },
   "file_extension": ".py",
   "mimetype": "text/x-python",
   "name": "python",
   "nbconvert_exporter": "python",
   "pygments_lexer": "ipython3",
   "version": "3.7.3"
  },
  "toc": {
   "base_numbering": 1,
   "nav_menu": {},
   "number_sections": true,
   "sideBar": true,
   "skip_h1_title": true,
   "title_cell": "Table of Contents",
   "title_sidebar": "Contents",
   "toc_cell": false,
   "toc_position": {},
   "toc_section_display": true,
   "toc_window_display": false
  },
  "varInspector": {
   "cols": {
    "lenName": 16,
    "lenType": 16,
    "lenVar": 40
   },
   "kernels_config": {
    "python": {
     "delete_cmd_postfix": "",
     "delete_cmd_prefix": "del ",
     "library": "var_list.py",
     "varRefreshCmd": "print(var_dic_list())"
    },
    "r": {
     "delete_cmd_postfix": ") ",
     "delete_cmd_prefix": "rm(",
     "library": "var_list.r",
     "varRefreshCmd": "cat(var_dic_list()) "
    }
   },
   "types_to_exclude": [
    "module",
    "function",
    "builtin_function_or_method",
    "instance",
    "_Feature"
   ],
   "window_display": false
  }
 },
 "nbformat": 4,
 "nbformat_minor": 2
}
